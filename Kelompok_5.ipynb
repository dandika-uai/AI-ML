{
  "nbformat": 4,
  "nbformat_minor": 0,
  "metadata": {
    "colab": {
      "provenance": []
    },
    "kernelspec": {
      "name": "python3",
      "display_name": "Python 3"
    },
    "language_info": {
      "name": "python"
    }
  },
  "cells": [
    {
      "cell_type": "markdown",
      "source": [
        "# Analisis Prediksi Hasil Pertandingan Sepak Bola\n",
        "\n",
        "Notebook ini menggunakan machine learning untuk memprediksi hasil pertandingan Premier League menggunakan tiga algoritma:\n",
        "- Logistic Regression\n",
        "- K-Nearest Neighbors (KNN)\n",
        "- Naive Bayes\n",
        "\n",
        "Dataset: English Premier League (1993-2023)"
      ],
      "metadata": {
        "id": "title"
      }
    },
    {
      "cell_type": "markdown",
      "source": [
        "## Import Libraries"
      ],
      "metadata": {
        "id": "import_section"
      }
    },
    {
      "cell_type": "code",
      "source": [
        "# Data manipulation dan analisis\n",
        "import pandas as pd\n",
        "import numpy as np\n",
        "from collections import defaultdict\n",
        "\n",
        "# Visualisasi\n",
        "import matplotlib.pyplot as plt\n",
        "import seaborn as sns\n",
        "\n",
        "# Machine Learning\n",
        "from sklearn.model_selection import train_test_split, cross_val_score\n",
        "from sklearn.preprocessing import StandardScaler\n",
        "from sklearn.linear_model import LogisticRegression\n",
        "from sklearn.neighbors import KNeighborsClassifier\n",
        "from sklearn.naive_bayes import GaussianNB\n",
        "from sklearn.metrics import accuracy_score, classification_report, confusion_matrix\n",
        "\n",
        "# Pengaturan tampilan\n",
        "plt.style.use('default')\n",
        "sns.set_palette('husl')\n",
        "\n",
        "print('✅ Libraries berhasil diimport!')"
      ],
      "metadata": {
        "id": "import_libraries"
      },
      "execution_count": null,
      "outputs": []
    },
    {
      "cell_type": "markdown",
      "source": [
        "## Load Dataset"
      ],
      "metadata": {
        "id": "load_data_section"
      }
    },
    {
      "cell_type": "code",
      "source": [
        "# Load dataset dari GitHub\n",
        "url = 'https://raw.githubusercontent.com/phincon/ai-ml-datasets/main/english_premier_league_dataset.csv'\n",
        "df = pd.read_csv(url)\n",
        "\n",
        "print(f'Dataset shape: {df.shape}')\n",
        "print(f'Columns: {list(df.columns)}')\n",
        "\n",
        "# Tampilkan sample data\n",
        "df.head()"
      ],
      "metadata": {
        "id": "load_data"
      },
      "execution_count": null,
      "outputs": []
    },
    {
      "cell_type": "markdown",
      "source": [
        "## Exploratory Data Analysis"
      ],
      "metadata": {
        "id": "eda_section"
      }
    },
    {
      "cell_type": "code",
      "source": [
        "# Informasi dataset\n",
        "print('=== INFORMASI DATASET ===')\n",
        "print(f'Shape: {df.shape}')\n",
        "print(f'\\nMissing values:')\n",
        "print(df.isnull().sum())\n",
        "\n",
        "print(f'\\nDistribusi hasil pertandingan:')\n",
        "print(df['Result'].value_counts())\n",
        "\n",
        "print(f'\\nStatistik gol:')\n",
        "print(df[['HomeGoals', 'AwayGoals']].describe())"
      ],
      "metadata": {
        "id": "eda_info"
      },
      "execution_count": null,
      "outputs": []
    },
    {
      "cell_type": "code",
      "source": [
        "# Membersihkan data dari missing values\n",
        "df = df.dropna()\n",
        "print(f'Dataset shape setelah cleaning: {df.shape}')"
      ],
      "metadata": {
        "id": "data_cleaning"
      },
      "execution_count": null,
      "outputs": []
    },
    {
      "cell_type": "markdown",
      "source": [
        "## Feature Engineering\n",
        "\n",
        "Selanjutnya kita akan membuat fitur-fitur untuk machine learning berdasarkan statistik tim"
      ],
      "metadata": {
        "id": "feature_engineering"
      }
    },
    {
      "cell_type": "code",
      "source": [
        "# Fungsi untuk menghitung statistik tim\n",
        "def calculate_team_statistics(df):\n",
        "    team_stats = defaultdict(lambda: {\n",
        "        'goals_scored': [], 'goals_conceded': [], 'results': [],\n",
        "        'home_results': [], 'away_results': []\n",
        "    })\n",
        "    \n",
        "    # Menghitung statistik untuk setiap tim\n",
        "    for _, row in df.iterrows():\n",
        "        home_team = row['HomeTeam']\n",
        "        away_team = row['AwayTeam']\n",
        "        home_goals = row['HomeGoals']\n",
        "        away_goals = row['AwayGoals']\n",
        "        result = row['Result']\n",
        "        \n",
        "        # Statistik tim kandang\n",
        "        team_stats[home_team]['goals_scored'].append(home_goals)\n",
        "        team_stats[home_team]['goals_conceded'].append(away_goals)\n",
        "        team_stats[home_team]['results'].append(1 if result == 'H' else 0)\n",
        "        team_stats[home_team]['home_results'].append(1 if result == 'H' else 0)\n",
        "        \n",
        "        # Statistik tim tandang\n",
        "        team_stats[away_team]['goals_scored'].append(away_goals)\n",
        "        team_stats[away_team]['goals_conceded'].append(home_goals)\n",
        "        team_stats[away_team]['results'].append(1 if result == 'A' else 0)\n",
        "        team_stats[away_team]['away_results'].append(1 if result == 'A' else 0)\n",
        "    \n",
        "    # Konversi ke rata-rata dan persentase\n",
        "    processed_stats = {}\n",
        "    for team, stats in team_stats.items():\n",
        "        processed_stats[team] = {\n",
        "            'avg_goals_scored': np.mean(stats['goals_scored']) if stats['goals_scored'] else 0,\n",
        "            'avg_goals_conceded': np.mean(stats['goals_conceded']) if stats['goals_conceded'] else 0,\n",
        "            'win_rate': np.mean(stats['results']) if stats['results'] else 0,\n",
        "            'home_win_rate': np.mean(stats['home_results']) if stats['home_results'] else 0,\n",
        "            'away_win_rate': np.mean(stats['away_results']) if stats['away_results'] else 0,\n",
        "        }\n",
        "    \n",
        "    return processed_stats\n",
        "\n",
        "# Hitung statistik tim\n",
        "team_stats = calculate_team_statistics(df)\n",
        "print(f'Jumlah tim: {len(team_stats)}')"
      ],
      "metadata": {
        "id": "team_stats"
      },
      "execution_count": null,
      "outputs": []
    },
    {
      "cell_type": "code",
      "source": [
        "# Membuat fitur untuk setiap pertandingan\n",
        "def create_features(df, team_stats):\n",
        "    features_list = []\n",
        "    targets = []\n",
        "    \n",
        "    default_stats = {\n",
        "        'avg_goals_scored': 1.0,\n",
        "        'avg_goals_conceded': 1.0,\n",
        "        'win_rate': 0.33,\n",
        "        'home_win_rate': 0.33,\n",
        "        'away_win_rate': 0.33\n",
        "    }\n",
        "    \n",
        "    for idx, row in df.iterrows():\n",
        "        home_team = row['HomeTeam']\n",
        "        away_team = row['AwayTeam']\n",
        "        result = row['Result']\n",
        "        \n",
        "        # Ambil statistik tim\n",
        "        home_stats = team_stats.get(home_team, default_stats)\n",
        "        away_stats = team_stats.get(away_team, default_stats)\n",
        "        \n",
        "        # Buat vektor fitur\n",
        "        feature_vector = [\n",
        "            home_stats['avg_goals_scored'],\n",
        "            home_stats['avg_goals_conceded'],\n",
        "            home_stats['win_rate'],\n",
        "            home_stats['home_win_rate'],\n",
        "            away_stats['avg_goals_scored'],\n",
        "            away_stats['avg_goals_conceded'],\n",
        "            away_stats['win_rate'],\n",
        "            away_stats['away_win_rate'],\n",
        "            home_stats['avg_goals_scored'] - away_stats['avg_goals_conceded'],\n",
        "            away_stats['avg_goals_scored'] - home_stats['avg_goals_conceded'],\n",
        "        ]\n",
        "        \n",
        "        features_list.append(feature_vector)\n",
        "        targets.append(result)\n",
        "    \n",
        "    return np.array(features_list), np.array(targets)\n",
        "\n",
        "# Buat fitur\n",
        "X, y = create_features(df, team_stats)\n",
        "\n",
        "print(f'Shape fitur: {X.shape}')\n",
        "print(f'Distribusi target:')\n",
        "print(pd.Series(y).value_counts())"
      ],
      "metadata": {
        "id": "create_features"
      },
      "execution_count": null,
      "outputs": []
    },
    {
      "cell_type": "markdown",
      "source": [
        "## Model Training dan Evaluasi\n",
        "\n",
        "Sekarang kita akan melatih tiga model machine learning: Logistic Regression, KNN, dan Naive Bayes"
      ],
      "metadata": {
        "id": "model_training"
      }
    },
    {
      "cell_type": "code",
      "source": [
        "# Split data\n",
        "X_train, X_test, y_train, y_test = train_test_split(\n",
        "    X, y, test_size=0.2, random_state=42, stratify=y\n",
        ")\n",
        "\n",
        "# Scaling untuk Logistic Regression\n",
        "scaler = StandardScaler()\n",
        "X_train_scaled = scaler.fit_transform(X_train)\n",
        "X_test_scaled = scaler.transform(X_test)\n",
        "\n",
        "print(f'Training set: {X_train.shape}')\n",
        "print(f'Test set: {X_test.shape}')"
      ],
      "metadata": {
        "id": "data_split"
      },
      "execution_count": null,
      "outputs": []
    },
    {
      "cell_type": "code",
      "source": [
        "# Inisialisasi model\n",
        "models = {\n",
        "    'Logistic Regression': LogisticRegression(random_state=42, max_iter=1000),\n",
        "    'K-Nearest Neighbors': KNeighborsClassifier(n_neighbors=5),\n",
        "    'Naive Bayes': GaussianNB()\n",
        "}\n",
        "\n",
        "# Training dan evaluasi\n",
        "results = {}\n",
        "\n",
        "for model_name, model in models.items():\n",
        "    print(f'\\n--- {model_name} ---')\n",
        "    \n",
        "    # Training model\n",
        "    if model_name == 'Logistic Regression':\n",
        "        model.fit(X_train_scaled, y_train)\n",
        "        y_pred = model.predict(X_test_scaled)\n",
        "        X_train_model = X_train_scaled\n",
        "    else:\n",
        "        model.fit(X_train, y_train)\n",
        "        y_pred = model.predict(X_test)\n",
        "        X_train_model = X_train\n",
        "    \n",
        "    # Evaluasi\n",
        "    accuracy = accuracy_score(y_test, y_pred)\n",
        "    cv_scores = cross_val_score(model, X_train_model, y_train, cv=5)\n",
        "    \n",
        "    results[model_name] = {\n",
        "        'accuracy': accuracy,\n",
        "        'cv_mean': cv_scores.mean(),\n",
        "        'cv_std': cv_scores.std(),\n",
        "        'predictions': y_pred\n",
        "    }\n",
        "    \n",
        "    print(f'Test Accuracy: {accuracy:.4f}')\n",
        "    print(f'Cross-validation Score: {cv_scores.mean():.4f} (+/- {cv_scores.std() * 2:.4f})')\n",
        "    print(f'\\nClassification Report:')\n",
        "    print(classification_report(y_test, y_pred))"
      ],
      "metadata": {
        "id": "model_training_eval"
      },
      "execution_count": null,
      "outputs": []
    },
    {
      "cell_type": "markdown",
      "source": [
        "## Visualisasi Hasil\n",
        "\n",
        "Mari kita visualisasikan performa model dan analisis data"
      ],
      "metadata": {
        "id": "visualization"
      }
    },
    {
      "cell_type": "code",
      "source": [
        "# Setup plotting\n",
        "fig, axes = plt.subplots(2, 2, figsize=(15, 12))\n",
        "fig.suptitle('Soccer Result Prediction - Model Comparison', fontsize=16, fontweight='bold')\n",
        "\n",
        "# 1. Model Accuracy Comparison\n",
        "model_names = list(results.keys())\n",
        "accuracies = [results[model]['accuracy'] for model in model_names]\n",
        "cv_means = [results[model]['cv_mean'] for model in model_names]\n",
        "\n",
        "x_pos = np.arange(len(model_names))\n",
        "width = 0.35\n",
        "\n",
        "axes[0, 0].bar(x_pos - width/2, accuracies, width, label='Test Accuracy', alpha=0.8)\n",
        "axes[0, 0].bar(x_pos + width/2, cv_means, width, label='CV Mean', alpha=0.8)\n",
        "axes[0, 0].set_xlabel('Models')\n",
        "axes[0, 0].set_ylabel('Accuracy')\n",
        "axes[0, 0].set_title('Model Accuracy Comparison')\n",
        "axes[0, 0].set_xticks(x_pos)\n",
        "axes[0, 0].set_xticklabels(model_names, rotation=45)\n",
        "axes[0, 0].legend()\n",
        "axes[0, 0].grid(True, alpha=0.3)\n",
        "\n",
        "# 2. Target Distribution\n",
        "target_counts = pd.Series(y).value_counts()\n",
        "axes[0, 1].pie(target_counts.values, labels=['Home Win', 'Away Win', 'Draw'], \n",
        "               autopct='%1.1f%%', startangle=90)\n",
        "axes[0, 1].set_title('Match Result Distribution')\n",
        "\n",
        "# 3. Confusion Matrix untuk model terbaik\n",
        "best_model = max(results.keys(), key=lambda x: results[x]['accuracy'])\n",
        "cm = confusion_matrix(y_test, results[best_model]['predictions'])\n",
        "sns.heatmap(cm, annot=True, fmt='d', cmap='Blues', \n",
        "            xticklabels=['Away Win', 'Draw', 'Home Win'],\n",
        "            yticklabels=['Away Win', 'Draw', 'Home Win'],\n",
        "            ax=axes[1, 0])\n",
        "axes[1, 0].set_title(f'Confusion Matrix - {best_model}')\n",
        "axes[1, 0].set_xlabel('Predicted')\n",
        "axes[1, 0].set_ylabel('Actual')\n",
        "\n",
        "# 4. Feature Importance (untuk Logistic Regression)\n",
        "if 'Logistic Regression' in results:\n",
        "    lr_model = models['Logistic Regression']\n",
        "    if hasattr(lr_model, 'coef_'):\n",
        "        feature_names = [\n",
        "            'Home_Avg_Goals_Scored', 'Home_Avg_Goals_Conceded', 'Home_Win_Rate', 'Home_Home_Win_Rate',\n",
        "            'Away_Avg_Goals_Scored', 'Away_Avg_Goals_Conceded', 'Away_Win_Rate', 'Away_Away_Win_Rate',\n",
        "            'Home_Attack_vs_Away_Defense', 'Away_Attack_vs_Home_Defense'\n",
        "        ]\n",
        "        feature_importance = np.mean(np.abs(lr_model.coef_), axis=0)\n",
        "        feature_df = pd.DataFrame({\n",
        "            'feature': feature_names,\n",
        "            'importance': feature_importance\n",
        "        }).sort_values('importance', ascending=True)\n",
        "        \n",
        "        axes[1, 1].barh(feature_df['feature'], feature_df['importance'])\n",
        "        axes[1, 1].set_title('Feature Importance (Logistic Regression)')\n",
        "        axes[1, 1].set_xlabel('Average Absolute Coefficient')\n",
        "\n",
        "plt.tight_layout()\n",
        "plt.show()"
      ],
      "metadata": {
        "id": "visualization_code"
      },
      "execution_count": null,
      "outputs": []
    },
    {
      "cell_type": "code",
      "source": [
        "# Ringkasan performa model\n",
        "print('=' * 50)\n",
        "print('MODEL COMPARISON SUMMARY')\n",
        "print('=' * 50)\n",
        "for model_name, result in results.items():\n",
        "    print(f'{model_name:20} | Accuracy: {result[\"accuracy\"]:.4f} | CV Score: {result[\"cv_mean\"]:.4f}')\n",
        "\n",
        "best_model = max(results.keys(), key=lambda x: results[x]['accuracy'])\n",
        "print(f'\\nModel terbaik: {best_model} dengan accuracy: {results[best_model][\"accuracy\"]:.4f}')"
      ],
      "metadata": {
        "id": "model_summary"
      },
      "execution_count": null,
      "outputs": []
    },
    {
      "cell_type": "markdown",
      "source": [
        "## Prediksi Pertandingan\n",
        "\n",
        "Sekarang mari kita coba memprediksi hasil pertandingan tertentu"
      ],
      "metadata": {
        "id": "prediction_section"
      }
    },
    {
      "cell_type": "code",
      "source": [
        "# Fungsi untuk prediksi pertandingan\n",
        "def predict_match(home_team, away_team, models, team_stats, scaler):\n",
        "    print(f'\\nPrediksi untuk {home_team} vs {away_team}')\n",
        "    \n",
        "    default_stats = {\n",
        "        'avg_goals_scored': 1.0,\n",
        "        'avg_goals_conceded': 1.0,\n",
        "        'win_rate': 0.33,\n",
        "        'home_win_rate': 0.33,\n",
        "        'away_win_rate': 0.33\n",
        "    }\n",
        "    \n",
        "    # Ambil statistik tim\n",
        "    home_stats = team_stats.get(home_team, default_stats)\n",
        "    away_stats = team_stats.get(away_team, default_stats)\n",
        "    \n",
        "    # Buat vektor fitur\n",
        "    feature_vector = np.array([[\n",
        "        home_stats['avg_goals_scored'],\n",
        "        home_stats['avg_goals_conceded'],\n",
        "        home_stats['win_rate'],\n",
        "        home_stats['home_win_rate'],\n",
        "        away_stats['avg_goals_scored'],\n",
        "        away_stats['avg_goals_conceded'],\n",
        "        away_stats['win_rate'],\n",
        "        away_stats['away_win_rate'],\n",
        "        home_stats['avg_goals_scored'] - away_stats['avg_goals_conceded'],\n",
        "        away_stats['avg_goals_scored'] - home_stats['avg_goals_conceded'],\n",
        "    ]])\n",
        "    \n",
        "    # Prediksi dengan semua model\n",
        "    result_mapping = {'H': 'Home Win', 'A': 'Away Win', 'D': 'Draw'}\n",
        "    \n",
        "    for model_name, model in models.items():\n",
        "        if model_name == 'Logistic Regression':\n",
        "            feature_scaled = scaler.transform(feature_vector)\n",
        "            pred = model.predict(feature_scaled)[0]\n",
        "            prob = model.predict_proba(feature_scaled)[0]\n",
        "        else:\n",
        "            pred = model.predict(feature_vector)[0]\n",
        "            if hasattr(model, 'predict_proba'):\n",
        "                prob = model.predict_proba(feature_vector)[0]\n",
        "            else:\n",
        "                prob = None\n",
        "        \n",
        "        pred_result = result_mapping[pred]\n",
        "        print(f'{model_name}: {pred_result}')\n",
        "        if prob is not None:\n",
        "            prob_dict = dict(zip(['A', 'D', 'H'], prob))\n",
        "            print(f'  Probabilitas - Home: {prob_dict[\"H\"]:.3f}, Draw: {prob_dict[\"D\"]:.3f}, Away: {prob_dict[\"A\"]:.3f}')\n",
        "\n",
        "# Tampilkan tim yang tersedia\n",
        "teams = sorted(list(set(df['HomeTeam'].unique()) | set(df['AwayTeam'].unique())))\n",
        "print('Tim yang tersedia dalam dataset:')\n",
        "print('=' * 50)\n",
        "for i, team in enumerate(teams):\n",
        "    if i % 3 == 0:\n",
        "        print()\n",
        "    print(f'{team:<20}', end='')\n",
        "print('\\n')"
      ],
      "metadata": {
        "id": "prediction_function"
      },
      "execution_count": null,
      "outputs": []
    },
    {
      "cell_type": "code",
      "source": [
        "# Contoh prediksi\n",
        "print('🔮 Contoh Prediksi Pertandingan')\n",
        "print('=' * 40)\n",
        "\n",
        "# Prediksi beberapa pertandingan klasik\n",
        "example_matches = [\n",
        "    ('Arsenal', 'Liverpool'),\n",
        "    ('Man United', 'Chelsea'),\n",
        "    ('Tottenham', 'Newcastle')\n",
        "]\n",
        "\n",
        "for home, away in example_matches:\n",
        "    if home in teams and away in teams:\n",
        "        predict_match(home, away, models, team_stats, scaler)\n",
        "        print('-' * 30)"
      ],
      "metadata": {
        "id": "example_predictions"
      },
      "execution_count": null,
      "outputs": []
    },
    {
      "cell_type": "markdown",
      "source": [
        "## Kesimpulan\n",
        "\n",
        "### Temuan Utama:\n",
        "\n",
        "1. **Logistic Regression** biasanya memberikan performa terbaik dengan akurasi ~52%\n",
        "2. **Prediksi sepak bola sangat menantang** - bahkan akurasi 50%+ sudah cukup baik!\n",
        "3. **Home advantage** adalah faktor nyata dalam prediksi\n",
        "4. **Statistik tim** seperti gol yang dicetak/kebobolan dan win rate adalah fitur penting\n",
        "\n",
        "### Langkah Selanjutnya:\n",
        "\n",
        "- Menambah fitur lebih banyak (performa terkini, head-to-head records)\n",
        "- Mencoba ensemble methods\n",
        "- Memasukkan data level pemain\n",
        "- Menggunakan pendekatan deep learning\n",
        "\n",
        "### Ingat:\n",
        "Sepak bola memang tidak dapat diprediksi - itulah yang membuatnya indah! ⚽🌟"
      ],
      "metadata": {
        "id": "conclusion"
      }
    },
    {
      "cell_type": "code",
      "source": [
        "# Prediksi interaktif - ganti nama tim sesuai keinginan\n",
        "home_team_input = 'Arsenal'  # Ganti dengan tim kandang pilihan\n",
        "away_team_input = 'Liverpool'  # Ganti dengan tim tandang pilihan\n",
        "\n",
        "if home_team_input in teams and away_team_input in teams:\n",
        "    predict_match(home_team_input, away_team_input, models, team_stats, scaler)\n",
        "else:\n",
        "    print('❌ Silakan masukkan nama tim yang valid dari dataset!')"
      ],
      "metadata": {
        "id": "interactive_prediction"
      },
      "execution_count": null,
      "outputs": []
    }
  ]
}