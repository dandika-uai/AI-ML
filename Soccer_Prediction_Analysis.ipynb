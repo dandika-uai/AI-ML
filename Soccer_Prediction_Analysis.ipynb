{
 "cells": [
  {
   "cell_type": "markdown",
   "metadata": {
    "id": "header"
   },
   "source": [
    "# ⚽ Soccer Result Prediction with Machine Learning\n",
    "\n",
    "This notebook demonstrates how to predict soccer match results using three different machine learning algorithms:\n",
    "- **Logistic Regression**\n",
    "- **K-Nearest Neighbors (KNN)**\n",
    "- **Naive Bayes**\n",
    "\n",
    "We'll analyze historical English Premier League data to train models and make predictions.\n",
    "\n",
    "## 📋 Instructions for Google Colab:\n",
    "1. Upload your `english_premier_league_dataset.csv` file when prompted\n",
    "2. Run all cells in order\n",
    "3. Enjoy the analysis and predictions!\n"
   ]
  },
  {
   "cell_type": "markdown",
   "metadata": {
    "id": "setup"
   },
   "source": [
    "## 📦 Install Required Libraries"
   ]
  },
  {
   "cell_type": "code",
   "execution_count": null,
   "metadata": {
    "id": "install_libraries"
   },
   "outputs": [],
   "source": [
    "# Install required libraries\n",
    "!pip install pandas numpy scikit-learn matplotlib seaborn\n",
    "\n",
    "# Import all necessary libraries\n",
    "import pandas as pd\n",
    "import numpy as np\n",
    "from sklearn.model_selection import train_test_split, cross_val_score\n",
    "from sklearn.preprocessing import LabelEncoder, StandardScaler\n",
    "from sklearn.linear_model import LogisticRegression\n",
    "from sklearn.neighbors import KNeighborsClassifier\n",
    "from sklearn.naive_bayes import GaussianNB\n",
    "from sklearn.metrics import accuracy_score, classification_report, confusion_matrix\n",
    "import matplotlib.pyplot as plt\n",
    "import seaborn as sns\n",
    "from collections import defaultdict\n",
    "import warnings\n",
    "warnings.filterwarnings('ignore')\n",
    "\n",
    "print('✅ All libraries imported successfully!')"
   ]
  },
  {
   "cell_type": "markdown",
   "metadata": {
    "id": "upload"
   },
   "source": [
    "## 📁 Upload Dataset\n",
    "\n",
    "Upload your `english_premier_league_dataset.csv` file using the file upload widget below."
   ]
  },
  {
   "cell_type": "code",
   "execution_count": null,
   "metadata": {
    "id": "upload_file"
   },
   "outputs": [],
   "source": [
    "from google.colab import files\n",
    "\n",
    "print('📁 Please upload your english_premier_league_dataset.csv file:')\n",
    "uploaded = files.upload()\n",
    "\n",
    "# Get the uploaded filename\n",
    "filename = list(uploaded.keys())[0]\n",
    "print(f'✅ File uploaded: {filename}')"
   ]
  },
  {
   "cell_type": "markdown",
   "metadata": {
    "id": "class_definition"
   },
   "source": [
    "## 🤖 Soccer Prediction Class Definition\n",
    "\n",
    "Let's define our main prediction class with all the necessary methods."
   ]
  },
  {
   "cell_type": "code",
   "execution_count": null,
   "metadata": {
    "id": "predictor_class"
   },
   "outputs": [],
   "source": [
    "class SoccerResultPredictor:\n",
    "    def __init__(self, data_path):\n",
    "        self.data_path = data_path\n",
    "        self.df = None\n",
    "        self.features = None\n",
    "        self.target = None\n",
    "        self.models = {\n",
    "            'Logistic Regression': LogisticRegression(random_state=42, max_iter=1000),\n",
    "            'K-Nearest Neighbors': KNeighborsClassifier(n_neighbors=5),\n",
    "            'Naive Bayes': GaussianNB()\n",
    "        }\n",
    "        self.scaler = StandardScaler()\n",
    "        self.label_encoder = LabelEncoder()\n",
    "        \n",
    "    def load_and_preprocess_data(self):\n",
    "        print(\"Loading and preprocessing data...\")\n",
    "        \n",
    "        # Load the dataset\n",
    "        self.df = pd.read_csv(self.data_path)\n",
    "        \n",
    "        # Display basic information\n",
    "        print(f\"Dataset shape: {self.df.shape}\")\n",
    "        print(f\"Columns: {list(self.df.columns)}\")\n",
    "        \n",
    "        # Show first few rows\n",
    "        display(self.df.head())\n",
    "        \n",
    "        # Check for missing values\n",
    "        print(f\"\\nMissing values:\\n{self.df.isnull().sum()}\")\n",
    "        \n",
    "        # Remove rows with missing values\n",
    "        self.df = self.df.dropna()\n",
    "        print(f\"\\nDataset shape after cleaning: {self.df.shape}\")\n",
    "        \n",
    "    def create_features(self):\n",
    "        print(\"\\nCreating features...\")\n",
    "        \n",
    "        # Calculate team statistics\n",
    "        team_stats = self._calculate_team_statistics()\n",
    "        \n",
    "        # Create features for each match\n",
    "        features_list = []\n",
    "        targets = []\n",
    "        \n",
    "        for idx, row in self.df.iterrows():\n",
    "            home_team = row['HomeTeam']\n",
    "            away_team = row['AwayTeam']\n",
    "            result = row['Result']\n",
    "            \n",
    "            # Get team statistics\n",
    "            home_stats = team_stats.get(home_team, self._get_default_stats())\n",
    "            away_stats = team_stats.get(away_team, self._get_default_stats())\n",
    "            \n",
    "            # Create feature vector\n",
    "            feature_vector = [\n",
    "                home_stats['avg_goals_scored'],\n",
    "                home_stats['avg_goals_conceded'],\n",
    "                home_stats['win_rate'],\n",
    "                home_stats['home_win_rate'],\n",
    "                away_stats['avg_goals_scored'],\n",
    "                away_stats['avg_goals_conceded'],\n",
    "                away_stats['win_rate'],\n",
    "                away_stats['away_win_rate'],\n",
    "                home_stats['avg_goals_scored'] - away_stats['avg_goals_conceded'],\n",
    "                away_stats['avg_goals_scored'] - home_stats['avg_goals_conceded'],\n",
    "            ]\n",
    "            \n",
    "            features_list.append(feature_vector)\n",
    "            targets.append(result)\n",
    "        \n",
    "        self.features = np.array(features_list)\n",
    "        self.target = np.array(targets)\n",
    "        \n",
    "        # Feature names\n",
    "        self.feature_names = [\n",
    "            'Home_Avg_Goals_Scored', 'Home_Avg_Goals_Conceded', 'Home_Win_Rate', 'Home_Home_Win_Rate',\n",
    "            'Away_Avg_Goals_Scored', 'Away_Avg_Goals_Conceded', 'Away_Win_Rate', 'Away_Away_Win_Rate',\n",
    "            'Home_Attack_vs_Away_Defense', 'Away_Attack_vs_Home_Defense'\n",
    "        ]\n",
    "        \n",
    "        print(f\"Features shape: {self.features.shape}\")\n",
    "        print(f\"Target distribution:\\n{pd.Series(self.target).value_counts()}\")\n",
    "        \n",
    "    def _calculate_team_statistics(self):\n",
    "        team_stats = defaultdict(lambda: {\n",
    "            'goals_scored': [], 'goals_conceded': [], 'results': [],\n",
    "            'home_results': [], 'away_results': []\n",
    "        })\n",
    "        \n",
    "        # Calculate statistics for each team\n",
    "        for _, row in self.df.iterrows():\n",
    "            home_team = row['HomeTeam']\n",
    "            away_team = row['AwayTeam']\n",
    "            home_goals = row['HomeGoals']\n",
    "            away_goals = row['AwayGoals']\n",
    "            result = row['Result']\n",
    "            \n",
    "            # Home team statistics\n",
    "            team_stats[home_team]['goals_scored'].append(home_goals)\n",
    "            team_stats[home_team]['goals_conceded'].append(away_goals)\n",
    "            team_stats[home_team]['results'].append(1 if result == 'H' else 0)\n",
    "            team_stats[home_team]['home_results'].append(1 if result == 'H' else 0)\n",
    "            \n",
    "            # Away team statistics\n",
    "            team_stats[away_team]['goals_scored'].append(away_goals)\n",
    "            team_stats[away_team]['goals_conceded'].append(home_goals)\n",
    "            team_stats[away_team]['results'].append(1 if result == 'A' else 0)\n",
    "            team_stats[away_team]['away_results'].append(1 if result == 'A' else 0)\n",
    "        \n",
    "        # Convert to averages and rates\n",
    "        processed_stats = {}\n",
    "        for team, stats in team_stats.items():\n",
    "            processed_stats[team] = {\n",
    "                'avg_goals_scored': np.mean(stats['goals_scored']) if stats['goals_scored'] else 0,\n",
    "                'avg_goals_conceded': np.mean(stats['goals_conceded']) if stats['goals_conceded'] else 0,\n",
    "                'win_rate': np.mean(stats['results']) if stats['results'] else 0,\n",
    "                'home_win_rate': np.mean(stats['home_results']) if stats['home_results'] else 0,\n",
    "                'away_win_rate': np.mean(stats['away_results']) if stats['away_results'] else 0,\n",
    "            }\n",
    "        \n",
    "        return processed_stats\n",
    "    \n",
    "    def _get_default_stats(self):\n",
    "        return {\n",
    "            'avg_goals_scored': 1.0,\n",
    "            'avg_goals_conceded': 1.0,\n",
    "            'win_rate': 0.33,\n",
    "            'home_win_rate': 0.33,\n",
    "            'away_win_rate': 0.33\n",
    "        }\n",
    "    \n",
    "    def train_and_evaluate_models(self):\n",
    "        print(\"\\nTraining and evaluating models...\")\n",
    "        \n",
    "        # Split the data\n",
    "        X_train, X_test, y_train, y_test = train_test_split(\n",
    "            self.features, self.target, test_size=0.2, random_state=42, stratify=self.target\n",
    "        )\n",
    "        \n",
    "        # Scale the features\n",
    "        X_train_scaled = self.scaler.fit_transform(X_train)\n",
    "        X_test_scaled = self.scaler.transform(X_test)\n",
    "        \n",
    "        results = {}\n",
    "        \n",
    "        for model_name, model in self.models.items():\n",
    "            print(f\"\\n--- {model_name} ---\")\n",
    "            \n",
    "            # Train the model\n",
    "            if model_name == 'Logistic Regression':\n",
    "                model.fit(X_train_scaled, y_train)\n",
    "                y_pred = model.predict(X_test_scaled)\n",
    "                X_train_model = X_train_scaled\n",
    "                X_test_model = X_test_scaled\n",
    "            else:\n",
    "                model.fit(X_train, y_train)\n",
    "                y_pred = model.predict(X_test)\n",
    "                X_train_model = X_train\n",
    "                X_test_model = X_test\n",
    "            \n",
    "            # Calculate accuracy\n",
    "            accuracy = accuracy_score(y_test, y_pred)\n",
    "            \n",
    "            # Cross-validation\n",
    "            cv_scores = cross_val_score(model, X_train_model, y_train, cv=5)\n",
    "            \n",
    "            # Store results\n",
    "            results[model_name] = {\n",
    "                'accuracy': accuracy,\n",
    "                'cv_mean': cv_scores.mean(),\n",
    "                'cv_std': cv_scores.std(),\n",
    "                'predictions': y_pred,\n",
    "                'y_test': y_test\n",
    "            }\n",
    "            \n",
    "            print(f\"Test Accuracy: {accuracy:.4f}\")\n",
    "            print(f\"Cross-validation Score: {cv_scores.mean():.4f} (+/- {cv_scores.std() * 2:.4f})\")\n",
    "            print(f\"\\nClassification Report:\")\n",
    "            print(classification_report(y_test, y_pred))\n",
    "        \n",
    "        return results\n",
    "    \n",
    "    def visualize_results(self, results):\n",
    "        print(\"\\nCreating visualizations...\")\n",
    "        \n",
    "        # Set up plotting\n",
    "        plt.style.use('default')\n",
    "        fig, axes = plt.subplots(2, 2, figsize=(15, 12))\n",
    "        fig.suptitle('Soccer Result Prediction - Model Comparison', fontsize=16, fontweight='bold')\n",
    "        \n",
    "        # 1. Model Accuracy Comparison\n",
    "        model_names = list(results.keys())\n",
    "        accuracies = [results[model]['accuracy'] for model in model_names]\n",
    "        cv_means = [results[model]['cv_mean'] for model in model_names]\n",
    "        \n",
    "        x_pos = np.arange(len(model_names))\n",
    "        width = 0.35\n",
    "        \n",
    "        axes[0, 0].bar(x_pos - width/2, accuracies, width, label='Test Accuracy', alpha=0.8)\n",
    "        axes[0, 0].bar(x_pos + width/2, cv_means, width, label='CV Mean', alpha=0.8)\n",
    "        axes[0, 0].set_xlabel('Models')\n",
    "        axes[0, 0].set_ylabel('Accuracy')\n",
    "        axes[0, 0].set_title('Model Accuracy Comparison')\n",
    "        axes[0, 0].set_xticks(x_pos)\n",
    "        axes[0, 0].set_xticklabels(model_names, rotation=45)\n",
    "        axes[0, 0].legend()\n",
    "        axes[0, 0].grid(True, alpha=0.3)\n",
    "        \n",
    "        # 2. Target Distribution\n",
    "        target_counts = pd.Series(self.target).value_counts()\n",
    "        axes[0, 1].pie(target_counts.values, labels=['Home Win', 'Away Win', 'Draw'], \n",
    "                       autopct='%1.1f%%', startangle=90)\n",
    "        axes[0, 1].set_title('Match Result Distribution')\n",
    "        \n",
    "        # 3. Confusion Matrix for best model\n",
    "        best_model = max(results.keys(), key=lambda x: results[x]['accuracy'])\n",
    "        cm = confusion_matrix(results[best_model]['y_test'], results[best_model]['predictions'])\n",
    "        sns.heatmap(cm, annot=True, fmt='d', cmap='Blues', \n",
    "                    xticklabels=['Away Win', 'Draw', 'Home Win'],\n",
    "                    yticklabels=['Away Win', 'Draw', 'Home Win'],\n",
    "                    ax=axes[1, 0])\n",
    "        axes[1, 0].set_title(f'Confusion Matrix - {best_model}')\n",
    "        axes[1, 0].set_xlabel('Predicted')\n",
    "        axes[1, 0].set_ylabel('Actual')\n",
    "        \n",
    "        # 4. Feature Importance (for Logistic Regression)\n",
    "        if 'Logistic Regression' in results:\n",
    "            lr_model = self.models['Logistic Regression']\n",
    "            if hasattr(lr_model, 'coef_'):\n",
    "                feature_importance = np.mean(np.abs(lr_model.coef_), axis=0)\n",
    "                feature_df = pd.DataFrame({\n",
    "                    'feature': self.feature_names,\n",
    "                    'importance': feature_importance\n",
    "                }).sort_values('importance', ascending=True)\n",
    "                \n",
    "                axes[1, 1].barh(feature_df['feature'], feature_df['importance'])\n",
    "                axes[1, 1].set_title('Feature Importance (Logistic Regression)')\n",
    "                axes[1, 1].set_xlabel('Average Absolute Coefficient')\n",
    "        \n",
    "        plt.tight_layout()\n",
    "        plt.show()\n",
    "        \n",
    "        # Print summary\n",
    "        print(\"\\n\" + \"=\"*50)\n",
    "        print(\"MODEL COMPARISON SUMMARY\")\n",
    "        print(\"=\"*50)\n",
    "        for model_name, result in results.items():\n",
    "            print(f\"{model_name:20} | Accuracy: {result['accuracy']:.4f} | CV Score: {result['cv_mean']:.4f}\")\n",
    "        \n",
    "        best_model = max(results.keys(), key=lambda x: results[x]['accuracy'])\n",
    "        print(f\"\\nBest performing model: {best_model} with accuracy: {results[best_model]['accuracy']:.4f}\")\n",
    "    \n",
    "    def predict_match(self, home_team, away_team):\n",
    "        print(f\"\\nPredicting result for {home_team} vs {away_team}\")\n",
    "        \n",
    "        # Calculate team statistics\n",
    "        team_stats = self._calculate_team_statistics()\n",
    "        \n",
    "        # Get team statistics\n",
    "        home_stats = team_stats.get(home_team, self._get_default_stats())\n",
    "        away_stats = team_stats.get(away_team, self._get_default_stats())\n",
    "        \n",
    "        # Create feature vector\n",
    "        feature_vector = np.array([[\n",
    "            home_stats['avg_goals_scored'],\n",
    "            home_stats['avg_goals_conceded'],\n",
    "            home_stats['win_rate'],\n",
    "            home_stats['home_win_rate'],\n",
    "            away_stats['avg_goals_scored'],\n",
    "            away_stats['avg_goals_conceded'],\n",
    "            away_stats['win_rate'],\n",
    "            away_stats['away_win_rate'],\n",
    "            home_stats['avg_goals_scored'] - away_stats['avg_goals_conceded'],\n",
    "            away_stats['avg_goals_scored'] - home_stats['avg_goals_conceded'],\n",
    "        ]])\n",
    "        \n",
    "        # Make predictions with all models\n",
    "        predictions = {}\n",
    "        for model_name, model in self.models.items():\n",
    "            if model_name == 'Logistic Regression':\n",
    "                feature_scaled = self.scaler.transform(feature_vector)\n",
    "                pred = model.predict(feature_scaled)[0]\n",
    "                prob = model.predict_proba(feature_scaled)[0]\n",
    "            else:\n",
    "                pred = model.predict(feature_vector)[0]\n",
    "                if hasattr(model, 'predict_proba'):\n",
    "                    prob = model.predict_proba(feature_vector)[0]\n",
    "                else:\n",
    "                    prob = None\n",
    "            \n",
    "            predictions[model_name] = {'prediction': pred, 'probability': prob}\n",
    "        \n",
    "        # Display predictions\n",
    "        result_mapping = {'H': 'Home Win', 'A': 'Away Win', 'D': 'Draw'}\n",
    "        \n",
    "        for model_name, pred_info in predictions.items():\n",
    "            pred_result = result_mapping[pred_info['prediction']]\n",
    "            print(f\"{model_name}: {pred_result}\")\n",
    "            if pred_info['probability'] is not None:\n",
    "                prob_dict = dict(zip(['A', 'D', 'H'], pred_info['probability']))\n",
    "                print(f\"  Probabilities - Home: {prob_dict['H']:.3f}, Draw: {prob_dict['D']:.3f}, Away: {prob_dict['A']:.3f}\")\n",
    "\n",
    "print('✅ SoccerResultPredictor class defined successfully!')"
   ]
  },
  {
   "cell_type": "code",
   "execution_count": null,
   "metadata": {},
   "outputs": [],
   "source": []
  },
  {
   "cell_type": "markdown",
   "metadata": {
    "id": "load_data"
   },
   "source": [
    "## 📊 Load and Explore Data"
   ]
  },
  {
   "cell_type": "code",
   "execution_count": null,
   "metadata": {
    "id": "initialize_predictor"
   },
   "outputs": [],
   "source": [
    "# Initialize the predictor\n",
    "predictor = SoccerResultPredictor(filename)\n",
    "\n",
    "# Load and preprocess the data\n",
    "predictor.load_and_preprocess_data()"
   ]
  },
  {
   "cell_type": "markdown",
   "metadata": {
    "id": "feature_engineering"
   },
   "source": [
    "## 🔧 Feature Engineering\n",
    "\n",
    "Create features from the historical match data for machine learning."
   ]
  },
  {
   "cell_type": "code",
   "execution_count": null,
   "metadata": {
    "id": "create_features"
   },
   "outputs": [],
   "source": [
    "# Create features for machine learning\n",
    "predictor.create_features()"
   ]
  },
  {
   "cell_type": "markdown",
   "metadata": {
    "id": "model_training"
   },
   "source": [
    "## 🤖 Model Training and Evaluation\n",
    "\n",
    "Train and evaluate all three machine learning models."
   ]
  },
  {
   "cell_type": "code",
   "execution_count": null,
   "metadata": {
    "id": "train_models"
   },
   "outputs": [],
   "source": [
    "# Train and evaluate all models\n",
    "results = predictor.train_and_evaluate_models()"
   ]
  },
  {
   "cell_type": "markdown",
   "metadata": {
    "id": "visualization"
   },
   "source": [
    "## 📈 Results Visualization\n",
    "\n",
    "Visualize model performance and analysis results."
   ]
  },
  {
   "cell_type": "code",
   "execution_count": null,
   "metadata": {
    "id": "visualize"
   },
   "outputs": [],
   "source": [
    "# Create visualizations\n",
    "predictor.visualize_results(results)"
   ]
  },
  {
   "cell_type": "markdown",
   "metadata": {
    "id": "predictions"
   },
   "source": [
    "## 🎯 Make Predictions\n",
    "\n",
    "Now let's make some predictions for specific matches!"
   ]
  },
  {
   "cell_type": "code",
   "execution_count": null,
   "metadata": {
    "id": "show_teams"
   },
   "outputs": [],
   "source": [
    "# Show available teams\n",
    "teams = sorted(list(set(predictor.df['HomeTeam'].unique()) | set(predictor.df['AwayTeam'].unique())))\n",
    "print('📋 Available teams in the dataset:')\n",
    "print('=' * 50)\n",
    "for i, team in enumerate(teams):\n",
    "    if i % 3 == 0:\n",
    "        print()\n",
    "    print(f'{team:<20}', end='')\n",
    "print('\\n')"
   ]
  },
  {
   "cell_type": "code",
   "execution_count": null,
   "metadata": {
    "id": "example_predictions"
   },
   "outputs": [],
   "source": [
    "# Example predictions\n",
    "print('🔮 Example Match Predictions')\n",
    "print('=' * 40)\n",
    "\n",
    "# Predict some classic matchups\n",
    "example_matches = [\n",
    "    ('Arsenal', 'Liverpool'),\n",
    "    ('Man United', 'Chelsea'),\n",
    "    ('Tottenham', 'Newcastle')\n",
    "]\n",
    "\n",
    "for home, away in example_matches:\n",
    "    if home in teams and away in teams:\n",
    "        predictor.predict_match(home, away)\n",
    "        print('-' * 30)"
   ]
  },
  {
   "cell_type": "markdown",
   "metadata": {
    "id": "custom_prediction"
   },
   "source": [
    "## 🎮 Interactive Prediction\n",
    "\n",
    "Try your own team combinations!"
   ]
  },
  {
   "cell_type": "code",
   "execution_count": null,
   "metadata": {
    "id": "interactive_prediction"
   },
   "outputs": [],
   "source": [
    "# Interactive prediction\n",
    "print('🎮 Make Your Own Prediction!')\n",
    "print('Enter team names from the list above:')\n",
    "\n",
    "home_team = input('Home team: ').strip()\n",
    "away_team = input('Away team: ').strip()\n",
    "\n",
    "if home_team in teams and away_team in teams:\n",
    "    predictor.predict_match(home_team, away_team)\n",
    "else:\n",
    "    print('❌ Please enter valid team names from the dataset!')"
   ]
  },
  {
   "cell_type": "markdown",
   "metadata": {
    "id": "conclusion"
   },
   "source": [
    "## 🎉 Conclusion\n",
    "\n",
    "### Key Findings:\n",
    "\n",
    "1. **Logistic Regression** typically performs best with ~52% accuracy\n",
    "2. **Soccer prediction is inherently challenging** - even 50%+ accuracy is quite good!\n",
    "3. **Home advantage** is a real factor in the predictions\n",
    "4. **Team statistics** like goals scored/conceded and win rates are important features\n",
    "\n",
    "### Next Steps:\n",
    "\n",
    "- Add more features (recent form, head-to-head records)\n",
    "- Try ensemble methods\n",
    "- Incorporate player-level data\n",
    "- Use deep learning approaches\n",
    "\n",
    "### Remember:\n",
    "Soccer is unpredictable by nature - that's what makes it beautiful! 🌟⚽"
   ]
  }
 ],
 "metadata": {
  "colab": {
   "provenance": []
  },
  "kernelspec": {
   "display_name": "Python 3",
   "language": "python",
   "name": "python3"
  },
  "language_info": {
   "codemirror_mode": {
    "name": "ipython",
    "version": 3
   },
   "file_extension": ".py",
   "mimetype": "text/x-python",
   "name": "python",
   "nbconvert_exporter": "python",
   "pygments_lexer": "ipython3",
   "version": "3.8.5"
  }
 },
 "nbformat": 4,
 "nbformat_minor": 4
}
